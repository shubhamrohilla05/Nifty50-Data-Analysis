{
 "cells": [
  {
   "cell_type": "code",
   "execution_count": 33,
   "metadata": {},
   "outputs": [],
   "source": [
    "from nsepy import get_history\n",
    "from datetime import date"
   ]
  },
  {
   "cell_type": "markdown",
   "metadata": {},
   "source": [
    "Download script for SBI for test purpose"
   ]
  },
  {
   "cell_type": "code",
   "execution_count": 35,
   "metadata": {},
   "outputs": [
    {
     "data": {
      "text/html": [
       "<div>\n",
       "<style scoped>\n",
       "    .dataframe tbody tr th:only-of-type {\n",
       "        vertical-align: middle;\n",
       "    }\n",
       "\n",
       "    .dataframe tbody tr th {\n",
       "        vertical-align: top;\n",
       "    }\n",
       "\n",
       "    .dataframe thead th {\n",
       "        text-align: right;\n",
       "    }\n",
       "</style>\n",
       "<table border=\"1\" class=\"dataframe\">\n",
       "  <thead>\n",
       "    <tr style=\"text-align: right;\">\n",
       "      <th></th>\n",
       "      <th>Symbol</th>\n",
       "      <th>Series</th>\n",
       "      <th>Prev Close</th>\n",
       "      <th>Open</th>\n",
       "      <th>High</th>\n",
       "      <th>Low</th>\n",
       "      <th>Last</th>\n",
       "      <th>Close</th>\n",
       "      <th>VWAP</th>\n",
       "      <th>Volume</th>\n",
       "      <th>Turnover</th>\n",
       "      <th>Trades</th>\n",
       "      <th>Deliverable Volume</th>\n",
       "      <th>%Deliverble</th>\n",
       "    </tr>\n",
       "    <tr>\n",
       "      <th>Date</th>\n",
       "      <th></th>\n",
       "      <th></th>\n",
       "      <th></th>\n",
       "      <th></th>\n",
       "      <th></th>\n",
       "      <th></th>\n",
       "      <th></th>\n",
       "      <th></th>\n",
       "      <th></th>\n",
       "      <th></th>\n",
       "      <th></th>\n",
       "      <th></th>\n",
       "      <th></th>\n",
       "      <th></th>\n",
       "    </tr>\n",
       "  </thead>\n",
       "  <tbody>\n",
       "    <tr>\n",
       "      <th>2007-01-02</th>\n",
       "      <td>SBIN</td>\n",
       "      <td>EQ</td>\n",
       "      <td>1245.60</td>\n",
       "      <td>1250.0</td>\n",
       "      <td>1260.00</td>\n",
       "      <td>1243.00</td>\n",
       "      <td>1253.00</td>\n",
       "      <td>1253.55</td>\n",
       "      <td>1252.58</td>\n",
       "      <td>408144</td>\n",
       "      <td>5.112345e+13</td>\n",
       "      <td>NaN</td>\n",
       "      <td>116205.0</td>\n",
       "      <td>0.2847</td>\n",
       "    </tr>\n",
       "    <tr>\n",
       "      <th>2007-01-03</th>\n",
       "      <td>SBIN</td>\n",
       "      <td>EQ</td>\n",
       "      <td>1253.55</td>\n",
       "      <td>1250.0</td>\n",
       "      <td>1269.90</td>\n",
       "      <td>1237.10</td>\n",
       "      <td>1266.45</td>\n",
       "      <td>1264.85</td>\n",
       "      <td>1262.83</td>\n",
       "      <td>682554</td>\n",
       "      <td>8.619525e+13</td>\n",
       "      <td>NaN</td>\n",
       "      <td>241975.0</td>\n",
       "      <td>0.3545</td>\n",
       "    </tr>\n",
       "    <tr>\n",
       "      <th>2007-01-04</th>\n",
       "      <td>SBIN</td>\n",
       "      <td>EQ</td>\n",
       "      <td>1264.85</td>\n",
       "      <td>1270.0</td>\n",
       "      <td>1280.00</td>\n",
       "      <td>1237.25</td>\n",
       "      <td>1239.90</td>\n",
       "      <td>1243.00</td>\n",
       "      <td>1260.17</td>\n",
       "      <td>654440</td>\n",
       "      <td>8.247060e+13</td>\n",
       "      <td>NaN</td>\n",
       "      <td>149712.0</td>\n",
       "      <td>0.2288</td>\n",
       "    </tr>\n",
       "    <tr>\n",
       "      <th>2007-01-05</th>\n",
       "      <td>SBIN</td>\n",
       "      <td>EQ</td>\n",
       "      <td>1243.00</td>\n",
       "      <td>1241.0</td>\n",
       "      <td>1257.85</td>\n",
       "      <td>1233.10</td>\n",
       "      <td>1247.00</td>\n",
       "      <td>1244.10</td>\n",
       "      <td>1245.31</td>\n",
       "      <td>696227</td>\n",
       "      <td>8.670172e+13</td>\n",
       "      <td>NaN</td>\n",
       "      <td>233986.0</td>\n",
       "      <td>0.3361</td>\n",
       "    </tr>\n",
       "    <tr>\n",
       "      <th>2007-01-08</th>\n",
       "      <td>SBIN</td>\n",
       "      <td>EQ</td>\n",
       "      <td>1244.10</td>\n",
       "      <td>1248.8</td>\n",
       "      <td>1248.80</td>\n",
       "      <td>1207.05</td>\n",
       "      <td>1209.00</td>\n",
       "      <td>1213.70</td>\n",
       "      <td>1223.52</td>\n",
       "      <td>874701</td>\n",
       "      <td>1.070217e+14</td>\n",
       "      <td>NaN</td>\n",
       "      <td>385135.0</td>\n",
       "      <td>0.4403</td>\n",
       "    </tr>\n",
       "  </tbody>\n",
       "</table>\n",
       "</div>"
      ],
      "text/plain": [
       "           Symbol Series  Prev Close    Open     High      Low     Last  \\\n",
       "Date                                                                      \n",
       "2007-01-02   SBIN     EQ     1245.60  1250.0  1260.00  1243.00  1253.00   \n",
       "2007-01-03   SBIN     EQ     1253.55  1250.0  1269.90  1237.10  1266.45   \n",
       "2007-01-04   SBIN     EQ     1264.85  1270.0  1280.00  1237.25  1239.90   \n",
       "2007-01-05   SBIN     EQ     1243.00  1241.0  1257.85  1233.10  1247.00   \n",
       "2007-01-08   SBIN     EQ     1244.10  1248.8  1248.80  1207.05  1209.00   \n",
       "\n",
       "              Close     VWAP  Volume      Turnover  Trades  \\\n",
       "Date                                                         \n",
       "2007-01-02  1253.55  1252.58  408144  5.112345e+13     NaN   \n",
       "2007-01-03  1264.85  1262.83  682554  8.619525e+13     NaN   \n",
       "2007-01-04  1243.00  1260.17  654440  8.247060e+13     NaN   \n",
       "2007-01-05  1244.10  1245.31  696227  8.670172e+13     NaN   \n",
       "2007-01-08  1213.70  1223.52  874701  1.070217e+14     NaN   \n",
       "\n",
       "            Deliverable Volume  %Deliverble  \n",
       "Date                                         \n",
       "2007-01-02            116205.0       0.2847  \n",
       "2007-01-03            241975.0       0.3545  \n",
       "2007-01-04            149712.0       0.2288  \n",
       "2007-01-05            233986.0       0.3361  \n",
       "2007-01-08            385135.0       0.4403  "
      ]
     },
     "execution_count": 35,
     "metadata": {},
     "output_type": "execute_result"
    }
   ],
   "source": [
    "sbin = get_history(symbol='SBIN',\n",
    "                    start=date(2007,1,1), \n",
    "                    end=date(2021,1,10))\n",
    "sbin.head(5)"
   ]
  },
  {
   "cell_type": "code",
   "execution_count": 42,
   "metadata": {},
   "outputs": [],
   "source": [
    "index = sbin[sbin.index.duplicated()]\n",
    "index.count()\n",
    "sbin = sbin[~sbin.reset_index().duplicated().values]\n"
   ]
  },
  {
   "cell_type": "code",
   "execution_count": 43,
   "metadata": {},
   "outputs": [
    {
     "data": {
      "text/html": [
       "<div>\n",
       "<style scoped>\n",
       "    .dataframe tbody tr th:only-of-type {\n",
       "        vertical-align: middle;\n",
       "    }\n",
       "\n",
       "    .dataframe tbody tr th {\n",
       "        vertical-align: top;\n",
       "    }\n",
       "\n",
       "    .dataframe thead th {\n",
       "        text-align: right;\n",
       "    }\n",
       "</style>\n",
       "<table border=\"1\" class=\"dataframe\">\n",
       "  <thead>\n",
       "    <tr style=\"text-align: right;\">\n",
       "      <th></th>\n",
       "      <th>Symbol</th>\n",
       "      <th>Series</th>\n",
       "      <th>Prev Close</th>\n",
       "      <th>Open</th>\n",
       "      <th>High</th>\n",
       "      <th>Low</th>\n",
       "      <th>Last</th>\n",
       "      <th>Close</th>\n",
       "      <th>VWAP</th>\n",
       "      <th>Volume</th>\n",
       "      <th>Turnover</th>\n",
       "      <th>Trades</th>\n",
       "      <th>Deliverable Volume</th>\n",
       "      <th>%Deliverble</th>\n",
       "    </tr>\n",
       "    <tr>\n",
       "      <th>Date</th>\n",
       "      <th></th>\n",
       "      <th></th>\n",
       "      <th></th>\n",
       "      <th></th>\n",
       "      <th></th>\n",
       "      <th></th>\n",
       "      <th></th>\n",
       "      <th></th>\n",
       "      <th></th>\n",
       "      <th></th>\n",
       "      <th></th>\n",
       "      <th></th>\n",
       "      <th></th>\n",
       "      <th></th>\n",
       "    </tr>\n",
       "  </thead>\n",
       "  <tbody>\n",
       "  </tbody>\n",
       "</table>\n",
       "</div>"
      ],
      "text/plain": [
       "Empty DataFrame\n",
       "Columns: [Symbol, Series, Prev Close, Open, High, Low, Last, Close, VWAP, Volume, Turnover, Trades, Deliverable Volume, %Deliverble]\n",
       "Index: []"
      ]
     },
     "execution_count": 43,
     "metadata": {},
     "output_type": "execute_result"
    }
   ],
   "source": [
    "index = sbin[sbin.index.duplicated()]\n",
    "index"
   ]
  },
  {
   "cell_type": "code",
   "execution_count": 44,
   "metadata": {},
   "outputs": [],
   "source": [
    "import seaborn as sns\n"
   ]
  },
  {
   "cell_type": "code",
   "execution_count": 45,
   "metadata": {},
   "outputs": [
    {
     "data": {
      "text/plain": [
       "<AxesSubplot:xlabel='Turnover', ylabel='Count'>"
      ]
     },
     "execution_count": 45,
     "metadata": {},
     "output_type": "execute_result"
    },
    {
     "data": {
      "image/png": "[encoded data removed]",
      "text/plain": [
       "<Figure size 432x288 with 1 Axes>"
      ]
     },
     "metadata": {
      "needs_background": "light"
     },
     "output_type": "display_data"
    }
   ],
   "source": [
    "sns.histplot(sbin,x='Turnover', element=\"step\", fill=False)"
   ]
  },
  {
   "cell_type": "code",
   "execution_count": 46,
   "metadata": {},
   "outputs": [
    {
     "data": {
      "text/plain": [
       "<AxesSubplot:xlabel='Date'>"
      ]
     },
     "execution_count": 46,
     "metadata": {},
     "output_type": "execute_result"
    },
    {
     "data": {
      "image/png": "[encoded data removed]",
      "text/plain": [
       "<Figure size 432x288 with 2 Axes>"
      ]
     },
     "metadata": {
      "needs_background": "light"
     },
     "output_type": "display_data"
    }
   ],
   "source": [
    "sbin[[ 'VWAP', 'Turnover']].plot(secondary_y='Turnover')"
   ]
  }
 ],
 "metadata": {
  "interpreter": {
   "hash": "31f2aee4e71d21fbe5cf8b01ff0e069b9275f58929596ceb00d14d90e3e16cd6"
  },
  "kernelspec": {
   "display_name": "Python 3.8.9 64-bit",
   "language": "python",
   "name": "python3"
  },
  "language_info": {
   "codemirror_mode": {
    "name": "ipython",
    "version": 3
   },
   "file_extension": ".py",
   "mimetype": "text/x-python",
   "name": "python",
   "nbconvert_exporter": "python",
   "pygments_lexer": "ipython3",
   "version": "3.7.5"
  },
  "orig_nbformat": 4
 },
 "nbformat": 4,
 "nbformat_minor": 2
}
